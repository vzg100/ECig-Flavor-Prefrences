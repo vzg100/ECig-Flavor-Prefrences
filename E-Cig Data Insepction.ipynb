{
 "cells": [
  {
   "cell_type": "code",
   "execution_count": 1,
   "metadata": {},
   "outputs": [],
   "source": [
    "#Remove duplicates \n",
    "from collections import OrderedDict\n",
    "file = open(\"cleaned_reddit.csv\")\n",
    "d = OrderedDict()\n",
    "for line in file:\n",
    "    line = line.strip(\"\\n\")\n",
    "    l = line.split(\",\")\n",
    "    d[l[0]] = [l[1], l[2]]\n",
    "seen =[]\n",
    "dd = list(d.keys())\n",
    "dd.sort(key=len, reverse=True)\n",
    "for i in dd:\n",
    "    for j in dd:\n",
    "        if i != j and i in j and i not in seen and j not in seen:\n",
    "            seen.append(i)\n",
    "\n",
    "            d[i] = [int(d[i][0])-int(d[j][0]), int(d[i][1])-int(d[j][1])]\n",
    "file2 = open(\"cleaned_reddit_duplicates_stripped.csv\", \"w+\")\n",
    "for i in d.keys():\n",
    "    s = \"\"\n",
    "    s = i+\",\"+str(d[i][0])+\",\"+str(d[i][1])+\"\\n\"\n",
    "    #print(s)\n",
    "    \n",
    "    file2.write(s)"
   ]
  },
  {
   "cell_type": "code",
   "execution_count": 2,
   "metadata": {},
   "outputs": [
    {
     "name": "stdout",
     "output_type": "stream",
     "text": [
      "250.19654427645787 8.0\n",
      "137.26565874730022 4.0\n"
     ]
    }
   ],
   "source": [
    "import pandas as pd\n",
    "import numpy as np\n",
    "\n",
    "f = pd.read_csv(\"cleaned_reddit_duplicates_stripped.csv\")\n",
    "print(f[\"Positive\"].mean(), f[\"Positive\"].median())\n",
    "print(f[\"Negative\"].mean(), f[\"Negative\"].median())\n"
   ]
  },
  {
   "cell_type": "markdown",
   "metadata": {},
   "source": [
    "A quick look at the flavors with the most positive refrences "
   ]
  },
  {
   "cell_type": "code",
   "execution_count": 3,
   "metadata": {},
   "outputs": [
    {
     "data": {
      "text/html": [
       "<div>\n",
       "<style scoped>\n",
       "    .dataframe tbody tr th:only-of-type {\n",
       "        vertical-align: middle;\n",
       "    }\n",
       "\n",
       "    .dataframe tbody tr th {\n",
       "        vertical-align: top;\n",
       "    }\n",
       "\n",
       "    .dataframe thead th {\n",
       "        text-align: right;\n",
       "    }\n",
       "</style>\n",
       "<table border=\"1\" class=\"dataframe\">\n",
       "  <thead>\n",
       "    <tr style=\"text-align: right;\">\n",
       "      <th></th>\n",
       "      <th>Flavor Name</th>\n",
       "      <th>Positive</th>\n",
       "      <th>Negative</th>\n",
       "    </tr>\n",
       "  </thead>\n",
       "  <tbody>\n",
       "    <tr>\n",
       "      <th>162</th>\n",
       "      <td>strawberry</td>\n",
       "      <td>18263</td>\n",
       "      <td>4732</td>\n",
       "    </tr>\n",
       "    <tr>\n",
       "      <th>260</th>\n",
       "      <td>caramel</td>\n",
       "      <td>10030</td>\n",
       "      <td>5130</td>\n",
       "    </tr>\n",
       "    <tr>\n",
       "      <th>156</th>\n",
       "      <td>raspberry</td>\n",
       "      <td>6619</td>\n",
       "      <td>2592</td>\n",
       "    </tr>\n",
       "    <tr>\n",
       "      <th>268</th>\n",
       "      <td>banana</td>\n",
       "      <td>5026</td>\n",
       "      <td>2807</td>\n",
       "    </tr>\n",
       "    <tr>\n",
       "      <th>352</th>\n",
       "      <td>tobacco</td>\n",
       "      <td>4445</td>\n",
       "      <td>2070</td>\n",
       "    </tr>\n",
       "  </tbody>\n",
       "</table>\n",
       "</div>"
      ],
      "text/plain": [
       "    Flavor Name  Positive  Negative\n",
       "162  strawberry     18263      4732\n",
       "260     caramel     10030      5130\n",
       "156   raspberry      6619      2592\n",
       "268      banana      5026      2807\n",
       "352     tobacco      4445      2070"
      ]
     },
     "execution_count": 3,
     "metadata": {},
     "output_type": "execute_result"
    }
   ],
   "source": [
    "f.sort_values([\"Positive\"], ascending=[False]).head()"
   ]
  },
  {
   "cell_type": "markdown",
   "metadata": {},
   "source": [
    "A quick look at the flavors with the most negative refrences"
   ]
  },
  {
   "cell_type": "code",
   "execution_count": 4,
   "metadata": {},
   "outputs": [
    {
     "data": {
      "text/html": [
       "<div>\n",
       "<style scoped>\n",
       "    .dataframe tbody tr th:only-of-type {\n",
       "        vertical-align: middle;\n",
       "    }\n",
       "\n",
       "    .dataframe tbody tr th {\n",
       "        vertical-align: top;\n",
       "    }\n",
       "\n",
       "    .dataframe thead th {\n",
       "        text-align: right;\n",
       "    }\n",
       "</style>\n",
       "<table border=\"1\" class=\"dataframe\">\n",
       "  <thead>\n",
       "    <tr style=\"text-align: right;\">\n",
       "      <th></th>\n",
       "      <th>Flavor Name</th>\n",
       "      <th>Positive</th>\n",
       "      <th>Negative</th>\n",
       "    </tr>\n",
       "  </thead>\n",
       "  <tbody>\n",
       "    <tr>\n",
       "      <th>342</th>\n",
       "      <td>watermelon</td>\n",
       "      <td>2320</td>\n",
       "      <td>5248</td>\n",
       "    </tr>\n",
       "    <tr>\n",
       "      <th>260</th>\n",
       "      <td>caramel</td>\n",
       "      <td>10030</td>\n",
       "      <td>5130</td>\n",
       "    </tr>\n",
       "    <tr>\n",
       "      <th>162</th>\n",
       "      <td>strawberry</td>\n",
       "      <td>18263</td>\n",
       "      <td>4732</td>\n",
       "    </tr>\n",
       "    <tr>\n",
       "      <th>368</th>\n",
       "      <td>coconut</td>\n",
       "      <td>3178</td>\n",
       "      <td>3608</td>\n",
       "    </tr>\n",
       "    <tr>\n",
       "      <th>268</th>\n",
       "      <td>banana</td>\n",
       "      <td>5026</td>\n",
       "      <td>2807</td>\n",
       "    </tr>\n",
       "  </tbody>\n",
       "</table>\n",
       "</div>"
      ],
      "text/plain": [
       "    Flavor Name  Positive  Negative\n",
       "342  watermelon      2320      5248\n",
       "260     caramel     10030      5130\n",
       "162  strawberry     18263      4732\n",
       "368     coconut      3178      3608\n",
       "268      banana      5026      2807"
      ]
     },
     "execution_count": 4,
     "metadata": {},
     "output_type": "execute_result"
    }
   ],
   "source": [
    "f.sort_values([\"Negative\"], ascending=[False]).head()"
   ]
  },
  {
   "cell_type": "markdown",
   "metadata": {},
   "source": [
    "Raw numbers are nice, but the most commonly mentioned flavors drown out everything else. Why not use percent instead? First Adding a total column to make life easier.\n",
    "\n",
    "Positive Percent is positive mentions / total mentions\n",
    "\n",
    "Negative Percent is negative mentions / total mentions\n"
   ]
  },
  {
   "cell_type": "code",
   "execution_count": 5,
   "metadata": {},
   "outputs": [],
   "source": [
    "f[\"Total\"] = f[\"Positive\"]+f[\"Negative\"]\n",
    "f[\"Difference\"] = f[\"Positive\"] - f[\"Negative\"]"
   ]
  },
  {
   "cell_type": "code",
   "execution_count": 6,
   "metadata": {},
   "outputs": [
    {
     "data": {
      "text/html": [
       "<div>\n",
       "<style scoped>\n",
       "    .dataframe tbody tr th:only-of-type {\n",
       "        vertical-align: middle;\n",
       "    }\n",
       "\n",
       "    .dataframe tbody tr th {\n",
       "        vertical-align: top;\n",
       "    }\n",
       "\n",
       "    .dataframe thead th {\n",
       "        text-align: right;\n",
       "    }\n",
       "</style>\n",
       "<table border=\"1\" class=\"dataframe\">\n",
       "  <thead>\n",
       "    <tr style=\"text-align: right;\">\n",
       "      <th></th>\n",
       "      <th>Flavor Name</th>\n",
       "      <th>Positive</th>\n",
       "      <th>Negative</th>\n",
       "      <th>Total</th>\n",
       "      <th>Difference</th>\n",
       "      <th>Percent_Positive</th>\n",
       "    </tr>\n",
       "  </thead>\n",
       "  <tbody>\n",
       "    <tr>\n",
       "      <th>13</th>\n",
       "      <td>vanilla butter</td>\n",
       "      <td>-10</td>\n",
       "      <td>6</td>\n",
       "      <td>-4</td>\n",
       "      <td>-16</td>\n",
       "      <td>2.5</td>\n",
       "    </tr>\n",
       "    <tr>\n",
       "      <th>243</th>\n",
       "      <td>cap vanilla custard</td>\n",
       "      <td>-4</td>\n",
       "      <td>2</td>\n",
       "      <td>-2</td>\n",
       "      <td>-6</td>\n",
       "      <td>2.0</td>\n",
       "    </tr>\n",
       "    <tr>\n",
       "      <th>250</th>\n",
       "      <td>cinnamon danish</td>\n",
       "      <td>53</td>\n",
       "      <td>0</td>\n",
       "      <td>53</td>\n",
       "      <td>53</td>\n",
       "      <td>1.0</td>\n",
       "    </tr>\n",
       "    <tr>\n",
       "      <th>167</th>\n",
       "      <td>chocolate cream</td>\n",
       "      <td>27</td>\n",
       "      <td>0</td>\n",
       "      <td>27</td>\n",
       "      <td>27</td>\n",
       "      <td>1.0</td>\n",
       "    </tr>\n",
       "    <tr>\n",
       "      <th>317</th>\n",
       "      <td>caramel original</td>\n",
       "      <td>20</td>\n",
       "      <td>0</td>\n",
       "      <td>20</td>\n",
       "      <td>20</td>\n",
       "      <td>1.0</td>\n",
       "    </tr>\n",
       "  </tbody>\n",
       "</table>\n",
       "</div>"
      ],
      "text/plain": [
       "             Flavor Name  Positive  Negative  Total  Difference  \\\n",
       "13        vanilla butter       -10         6     -4         -16   \n",
       "243  cap vanilla custard        -4         2     -2          -6   \n",
       "250      cinnamon danish        53         0     53          53   \n",
       "167      chocolate cream        27         0     27          27   \n",
       "317     caramel original        20         0     20          20   \n",
       "\n",
       "     Percent_Positive  \n",
       "13                2.5  \n",
       "243               2.0  \n",
       "250               1.0  \n",
       "167               1.0  \n",
       "317               1.0  "
      ]
     },
     "execution_count": 6,
     "metadata": {},
     "output_type": "execute_result"
    }
   ],
   "source": [
    "f[\"Percent_Positive\"] = f[\"Positive\"]/f[\"Total\"]\n",
    "f.sort_values([\"Percent_Positive\", \"Total\"], ascending=[False, False]).head()"
   ]
  },
  {
   "cell_type": "markdown",
   "metadata": {},
   "source": [
    "Here we have sorted the most positive flavors for their percent rating and total rating. We can see Cinnamon Danish is the \"most positive\" flavor in the data set. "
   ]
  },
  {
   "cell_type": "code",
   "execution_count": 7,
   "metadata": {},
   "outputs": [
    {
     "data": {
      "text/html": [
       "<div>\n",
       "<style scoped>\n",
       "    .dataframe tbody tr th:only-of-type {\n",
       "        vertical-align: middle;\n",
       "    }\n",
       "\n",
       "    .dataframe tbody tr th {\n",
       "        vertical-align: top;\n",
       "    }\n",
       "\n",
       "    .dataframe thead th {\n",
       "        text-align: right;\n",
       "    }\n",
       "</style>\n",
       "<table border=\"1\" class=\"dataframe\">\n",
       "  <thead>\n",
       "    <tr style=\"text-align: right;\">\n",
       "      <th></th>\n",
       "      <th>Flavor Name</th>\n",
       "      <th>Positive</th>\n",
       "      <th>Negative</th>\n",
       "      <th>Total</th>\n",
       "      <th>Difference</th>\n",
       "      <th>Percent_Positive</th>\n",
       "      <th>Percent_Negative</th>\n",
       "    </tr>\n",
       "  </thead>\n",
       "  <tbody>\n",
       "    <tr>\n",
       "      <th>240</th>\n",
       "      <td>caramel candy</td>\n",
       "      <td>0</td>\n",
       "      <td>30</td>\n",
       "      <td>30</td>\n",
       "      <td>-30</td>\n",
       "      <td>0.0</td>\n",
       "      <td>1.0</td>\n",
       "    </tr>\n",
       "    <tr>\n",
       "      <th>267</th>\n",
       "      <td>yougurt</td>\n",
       "      <td>0</td>\n",
       "      <td>22</td>\n",
       "      <td>22</td>\n",
       "      <td>-22</td>\n",
       "      <td>0.0</td>\n",
       "      <td>1.0</td>\n",
       "    </tr>\n",
       "    <tr>\n",
       "      <th>169</th>\n",
       "      <td>yumberry</td>\n",
       "      <td>0</td>\n",
       "      <td>13</td>\n",
       "      <td>13</td>\n",
       "      <td>-13</td>\n",
       "      <td>0.0</td>\n",
       "      <td>1.0</td>\n",
       "    </tr>\n",
       "    <tr>\n",
       "      <th>164</th>\n",
       "      <td>white out</td>\n",
       "      <td>0</td>\n",
       "      <td>8</td>\n",
       "      <td>8</td>\n",
       "      <td>-8</td>\n",
       "      <td>0.0</td>\n",
       "      <td>1.0</td>\n",
       "    </tr>\n",
       "    <tr>\n",
       "      <th>233</th>\n",
       "      <td>apple sour</td>\n",
       "      <td>0</td>\n",
       "      <td>8</td>\n",
       "      <td>8</td>\n",
       "      <td>-8</td>\n",
       "      <td>0.0</td>\n",
       "      <td>1.0</td>\n",
       "    </tr>\n",
       "  </tbody>\n",
       "</table>\n",
       "</div>"
      ],
      "text/plain": [
       "       Flavor Name  Positive  Negative  Total  Difference  Percent_Positive  \\\n",
       "240  caramel candy         0        30     30         -30               0.0   \n",
       "267        yougurt         0        22     22         -22               0.0   \n",
       "169       yumberry         0        13     13         -13               0.0   \n",
       "164      white out         0         8      8          -8               0.0   \n",
       "233     apple sour         0         8      8          -8               0.0   \n",
       "\n",
       "     Percent_Negative  \n",
       "240               1.0  \n",
       "267               1.0  \n",
       "169               1.0  \n",
       "164               1.0  \n",
       "233               1.0  "
      ]
     },
     "execution_count": 7,
     "metadata": {},
     "output_type": "execute_result"
    }
   ],
   "source": [
    "f[\"Percent_Negative\"] = f[\"Negative\"]/f[\"Total\"]\n",
    "\n",
    "f.sort_values([\"Percent_Negative\", \"Total\"], ascending=[False, False]).head()"
   ]
  },
  {
   "cell_type": "markdown",
   "metadata": {},
   "source": [
    "We have sorted the most negative flavors in the same manner we sorted positive flavors. We can see Caramel Candy is the \"most negative\" flavor followed closely by yougurt."
   ]
  },
  {
   "cell_type": "markdown",
   "metadata": {},
   "source": [
    "Finally, some quick figures.\n"
   ]
  },
  {
   "cell_type": "code",
   "execution_count": 8,
   "metadata": {},
   "outputs": [
    {
     "name": "stdout",
     "output_type": "stream",
     "text": [
      "1\n"
     ]
    },
    {
     "data": {
      "image/png": "[encoded data removed]",
      "text/plain": [
       "<matplotlib.figure.Figure at 0x1190cc828>"
      ]
     },
     "metadata": {},
     "output_type": "display_data"
    }
   ],
   "source": [
    "%matplotlib inline\n",
    "print(1)\n",
    "ax = f.plot.scatter(x='Total', y='Negative', color='Red', label='Negative')\n",
    "f.plot.scatter(x='Total', y='Positive', color='Blue', label='Positive', ax=ax);"
   ]
  },
  {
   "cell_type": "code",
   "execution_count": 9,
   "metadata": {},
   "outputs": [
    {
     "data": {
      "image/png": "[encoded data removed]",
      "text/plain": [
       "<matplotlib.figure.Figure at 0x11969f358>"
      ]
     },
     "metadata": {},
     "output_type": "display_data"
    }
   ],
   "source": [
    "ax = f.plot.scatter(x='Total', y='Percent_Negative', color='Red', label='Percent Negative')\n",
    "f.plot.scatter(x='Total', y='Percent_Positive', color='Blue', label='Percent Positive', ax=ax);"
   ]
  },
  {
   "cell_type": "markdown",
   "metadata": {},
   "source": [
    "Here we remove the highest values so generate some clearer figures."
   ]
  },
  {
   "cell_type": "code",
   "execution_count": 10,
   "metadata": {},
   "outputs": [
    {
     "data": {
      "image/png": "[encoded data removed]",
      "text/plain": [
       "<matplotlib.figure.Figure at 0x1191e0dd8>"
      ]
     },
     "metadata": {},
     "output_type": "display_data"
    },
    {
     "data": {
      "image/png": "[encoded data removed]",
      "text/plain": [
       "<matplotlib.figure.Figure at 0x119711828>"
      ]
     },
     "metadata": {},
     "output_type": "display_data"
    }
   ],
   "source": [
    "f = f[f[\"Positive\"] < 10000]\n",
    "f[\"Total\"] = f[\"Positive\"]+f[\"Negative\"]\n",
    "f[\"Percent_Positive\"] = f[\"Positive\"]/f[\"Total\"]\n",
    "f[\"Percent_Negative\"] = f[\"Negative\"]/f[\"Total\"]\n",
    "\n",
    "ax = f.plot.scatter(x='Total', y='Negative', color='Red', label='Negative')\n",
    "f.plot.scatter(x='Total', y='Positive', color='Blue', label='Positive', ax=ax);\n",
    "\n",
    "\n",
    "ax = f.plot.scatter(x='Total', y='Percent_Negative', color='Red', label='Percent Negative')\n",
    "f.plot.scatter(x='Total', y='Percent_Positive', color='Blue', label='Percent Positive', ax=ax);"
   ]
  },
  {
   "cell_type": "code",
   "execution_count": 11,
   "metadata": {},
   "outputs": [
    {
     "data": {
      "image/png": "[encoded data removed]",
      "text/plain": [
       "<matplotlib.figure.Figure at 0x119766c88>"
      ]
     },
     "metadata": {},
     "output_type": "display_data"
    }
   ],
   "source": [
    "f.plot.scatter(x='Total', y='Difference', color='Green', label='Total Difference between Positive and Negative Mentions');"
   ]
  },
  {
   "cell_type": "code",
   "execution_count": 18,
   "metadata": {},
   "outputs": [
    {
     "name": "stdout",
     "output_type": "stream",
     "text": [
      "Chi Test Statistic: 1103694.4930780828, p-score: 0.0\n",
      "Chi Test Statistic: 800647.2432764655, p-score: 0.0\n",
      "Chi Test Statistic: 1737732.163707165, p-score: 0.0\n",
      "Chi Test Statistic: 998106.797318053, p-score: 0.0\n",
      "Chi Test Statistic: nan, p-score: nan\n",
      "Chi Test Statistic: nan, p-score: nan\n"
     ]
    },
    {
     "data": {
      "text/plain": [
       "'\\nrank_f = {j: {} for j in f[\"Flavor Name\"]}\\nmann_f= {j: {} for j in f[\"Flavor Name\"]}\\nflavors = f[\"Flavor Name\"].tolist()\\nfor i in list(f.columns.values):\\n    if i != \"Flavor Name\":\\n        vals = f[i].tolist()\\n        for j in range(len(vals)):\\n            rank_f[flavors[j]][i] = ranksums(f[i], [vals[j]])[0] #toggle 0: stat, 1: pval \\n            mann_f[flavors[j]][i] = mannwhitneyu(f[i], [vals[j]])[0]\\n            \\nprint(rank_f[\\'cap vanilla custard v\\'])\\nmann_f_file = open(\"mann_f_duplicates_dict_stat.csv\", \"w+\")\\nrank_f_file = open(\"rank_f_duplicates_dict_stat.csv\", \"w+\")\\ns = \"\"\\n\\nfor i in list(f.columns.values):\\n    s+=i\\n    s+=\",\"\\ns = s[:-1]\\ns+=\"\\n\"\\nmann_f_file.write(s)\\nrank_f_file.write(s)\\nt_m = \"\"\\nt_r = \"\"\\nfor i in flavors:\\n    t_m+=i\\n    t_m+=\",\"\\n    t_r+=i\\n    t_r+=\",\"\\n    for k in list(f.columns.values):\\n        if k != \"Flavor Name\":\\n            t_m+=str(mann_f[i][k])\\n            t_m+=\",\"\\n            t_r+=str(rank_f[i][k])\\n            t_r+=\",\"\\n    t_r = t_r[:-1]\\n    t_m = t_m[:-1]\\n    t_r+=\"\\n\"\\n    t_m+=\"\\n\"\\n    mann_f_file.write(t_m)\\n    rank_f_file.write(t_r)\\n\\nrank_f_file.close()\\nmann_f_file.close()\\n'"
      ]
     },
     "execution_count": 18,
     "metadata": {},
     "output_type": "execute_result"
    }
   ],
   "source": [
    "from scipy.stats import ranksums, mannwhitneyu, chisquare #return stat, pval so use list slices to select which one\n",
    "from math import log\n",
    "for i in list(f.columns.values):\n",
    "    if i != \"Flavor Name\":\n",
    "        chi, p = chisquare(f[i])\n",
    "        print(f\"\"\"Chi Test Statistic: {chi}, p-score: {p}\"\"\")\n",
    "\n",
    "\"\"\"\n",
    "rank_f = {j: {} for j in f[\"Flavor Name\"]}\n",
    "mann_f= {j: {} for j in f[\"Flavor Name\"]}\n",
    "flavors = f[\"Flavor Name\"].tolist()\n",
    "for i in list(f.columns.values):\n",
    "    if i != \"Flavor Name\":\n",
    "        vals = f[i].tolist()\n",
    "        for j in range(len(vals)):\n",
    "            rank_f[flavors[j]][i] = ranksums(f[i], [vals[j]])[0] #toggle 0: stat, 1: pval \n",
    "            mann_f[flavors[j]][i] = mannwhitneyu(f[i], [vals[j]])[0]\n",
    "            \n",
    "print(rank_f['cap vanilla custard v'])\n",
    "mann_f_file = open(\"mann_f_duplicates_dict_stat.csv\", \"w+\")\n",
    "rank_f_file = open(\"rank_f_duplicates_dict_stat.csv\", \"w+\")\n",
    "s = \"\"\n",
    "\n",
    "for i in list(f.columns.values):\n",
    "    s+=i\n",
    "    s+=\",\"\n",
    "s = s[:-1]\n",
    "s+=\"\\n\"\n",
    "mann_f_file.write(s)\n",
    "rank_f_file.write(s)\n",
    "t_m = \"\"\n",
    "t_r = \"\"\n",
    "for i in flavors:\n",
    "    t_m+=i\n",
    "    t_m+=\",\"\n",
    "    t_r+=i\n",
    "    t_r+=\",\"\n",
    "    for k in list(f.columns.values):\n",
    "        if k != \"Flavor Name\":\n",
    "            t_m+=str(mann_f[i][k])\n",
    "            t_m+=\",\"\n",
    "            t_r+=str(rank_f[i][k])\n",
    "            t_r+=\",\"\n",
    "    t_r = t_r[:-1]\n",
    "    t_m = t_m[:-1]\n",
    "    t_r+=\"\\n\"\n",
    "    t_m+=\"\\n\"\n",
    "    mann_f_file.write(t_m)\n",
    "    rank_f_file.write(t_r)\n",
    "\n",
    "rank_f_file.close()\n",
    "mann_f_file.close()\n",
    "\"\"\"\n",
    "\n"
   ]
  },
  {
   "cell_type": "code",
   "execution_count": null,
   "metadata": {
    "collapsed": true
   },
   "outputs": [],
   "source": []
  },
  {
   "cell_type": "code",
   "execution_count": null,
   "metadata": {},
   "outputs": [],
   "source": []
  },
  {
   "cell_type": "code",
   "execution_count": null,
   "metadata": {},
   "outputs": [],
   "source": []
  },
  {
   "cell_type": "code",
   "execution_count": null,
   "metadata": {},
   "outputs": [],
   "source": []
  }
 ],
 "metadata": {
  "kernelspec": {
   "display_name": "Python 3",
   "language": "python",
   "name": "python3"
  },
  "language_info": {
   "codemirror_mode": {
    "name": "ipython",
    "version": 3
   },
   "file_extension": ".py",
   "mimetype": "text/x-python",
   "name": "python",
   "nbconvert_exporter": "python",
   "pygments_lexer": "ipython3",
   "version": "3.6.4"
  }
 },
 "nbformat": 4,
 "nbformat_minor": 2
}
